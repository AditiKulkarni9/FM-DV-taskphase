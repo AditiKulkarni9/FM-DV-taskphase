{
  "nbformat": 4,
  "nbformat_minor": 0,
  "metadata": {
    "colab": {
      "name": "python T1 FMT",
      "provenance": [],
      "authorship_tag": "ABX9TyM3jQlFTkXnc73boV0ZGBMq",
      "include_colab_link": true
    },
    "kernelspec": {
      "name": "python3",
      "display_name": "Python 3"
    },
    "language_info": {
      "name": "python"
    }
  },
  "cells": [
    {
      "cell_type": "markdown",
      "metadata": {
        "id": "view-in-github",
        "colab_type": "text"
      },
      "source": [
        "<a href=\"https://colab.research.google.com/github/AditiKulkarni9/FM-DV-taskphase/blob/main/python_T1_FMT.ipynb\" target=\"_parent\"><img src=\"https://colab.research.google.com/assets/colab-badge.svg\" alt=\"Open In Colab\"/></a>"
      ]
    },
    {
      "cell_type": "markdown",
      "source": [
        "#multiplication of two matrices"
      ],
      "metadata": {
        "id": "EwWhoBrXh3QV"
      }
    },
    {
      "cell_type": "code",
      "source": [
        "a = int(input(\"enter rows for m1:\"))\n",
        "#coloumns for m1 / rows for m1 \n",
        "b = int(input(\"enter coloums for m1/ rows or m1:\"))\n",
        "#coloumns for m2\n",
        "c = int(input(\"enter coloumns for m2:\"))\n",
        "#m1 = a*b\n",
        "print(\"elements of m1 are:\")\n",
        "m1 = [[int(input()) for i in range(b)] for j in range(a)]\n",
        "print(\"m1:\")\n",
        "for i in range(1):\n",
        "  for j in range(1):\n",
        "    print(m1)\n",
        "#m2 = b*c\n",
        "print(\"\\nelements of m2 are:\")\n",
        "m2 = [[int(input()) for i in range(c)] for j in range(b)]\n",
        "print(\"m2:\")\n",
        "for i in range(1):\n",
        "  for j in range(1):\n",
        "    print(m2)\n",
        "\n",
        "print(\"\\n product of the two matrices:\")\n",
        "\n",
        "result = [[0 for i in range(c)] for j in range(a)]\n",
        "\n",
        "for i in range(a):\n",
        "  for j in range(c):\n",
        "    for k in range(b):\n",
        "      result[i][j] += m1[i][k]*m2[k][j]\n",
        "\n",
        "for i in range(1):\n",
        "  for j in range(1):\n",
        "    print(result)\n"
      ],
      "metadata": {
        "colab": {
          "base_uri": "https://localhost:8080/"
        },
        "outputId": "89ede5cf-2ec5-48ca-9eb4-c847ed1965df",
        "id": "WDYvwLx4h8Hx"
      },
      "execution_count": null,
      "outputs": [
        {
          "output_type": "stream",
          "name": "stdout",
          "text": [
            "enter rows for m1:2\n",
            "enter coloums for m1/ rows or m1:3\n",
            "enter coloumns for m2:2\n",
            "elements of m1 are:\n",
            "1\n",
            "2\n",
            "3\n",
            "4\n",
            "5\n",
            "6\n",
            "m1:\n",
            "[[1, 2, 3], [4, 5, 6]]\n",
            "\n",
            "elements of m2 are:\n",
            "1\n",
            "2\n",
            "3\n",
            "4\n",
            "5\n",
            "6\n",
            "m2:\n",
            "[[1, 2], [3, 4], [5, 6]]\n",
            "\n",
            " product of the two matrices:\n",
            "[[22, 28], [49, 64]]\n"
          ]
        }
      ]
    },
    {
      "cell_type": "markdown",
      "source": [
        "#Transpose of a matrix"
      ],
      "metadata": {
        "id": "IP2ng6fHhrwf"
      }
    },
    {
      "cell_type": "code",
      "source": [
        "#transpose of matrix\n",
        "a = int(input(\"enter rows for m1:\"))\n",
        "b = int(input(\"enter coloumns for m1:\"))\n",
        "\n",
        "def transpose(m1,n):\n",
        "  for i in range(b):\n",
        "    for j in range(a):\n",
        "      n[i][j] = m1[j][i]\n",
        "\n",
        "print(\"elements of m1 are:\")\n",
        "m1 = [[int(input()) for i in range(b)] for j in range(a)]\n",
        "print(\"m1:\")\n",
        "for i in range(1):\n",
        "  for j in range(1):\n",
        "    print(m1)\n",
        "\n",
        "n = [[0 for x in range(a)] for y in range(b)]\n",
        "\n",
        "transpose(m1,n)\n",
        "\n",
        "print(\"\\nresult matrix is :\")\n",
        "for i in range(1):\n",
        "  for j in range(1):\n",
        "    print(n)"
      ],
      "metadata": {
        "colab": {
          "base_uri": "https://localhost:8080/"
        },
        "outputId": "48aa5019-1c3e-4b30-b7fc-d5fb1b645af8",
        "id": "CYgEW2LXg5PY"
      },
      "execution_count": null,
      "outputs": [
        {
          "output_type": "stream",
          "name": "stdout",
          "text": [
            "enter rows for m1:2\n",
            "enter coloumns for m1:3\n",
            "elements of m1 are:\n",
            "1\n",
            "2\n",
            "3\n",
            "4\n",
            "5\n",
            "6\n",
            "m1:\n",
            "[[1, 2, 3], [4, 5, 6]]\n",
            "\n",
            "result matrix is :\n",
            "[[1, 4], [2, 5], [3, 6]]\n"
          ]
        }
      ]
    },
    {
      "cell_type": "code",
      "source": [
        "#VERIFICATION\n",
        "\n",
        "a = int(input(\"enter rows for m1:\"))\n",
        "#coloumns for m1 / rows for m1 \n",
        "b = int(input(\"enter coloums for m1/ rows or m1:\"))\n",
        "#coloumns for m2\n",
        "c = int(input(\"enter coloumns for m2:\"))\n",
        "#m1 = a*b\n",
        "print(\"elements of m1 are:\")\n",
        "m1 = [[int(input()) for i in range(b)] for j in range(a)]\n",
        "print(\"m1:\")\n",
        "for i in range(1):\n",
        "  for j in range(1):\n",
        "    print(m1)\n",
        "#m2 = b*c\n",
        "print(\"\\nelements of m2 are:\")\n",
        "m2 = [[int(input()) for i in range(c)] for j in range(b)]\n",
        "print(\"m2:\")\n",
        "for i in range(1):\n",
        "  for j in range(1):\n",
        "    print(m2)\n",
        "\n",
        "print(\"\\n product of the two matrices:\")\n",
        "\n",
        "result = [[0 for i in range(c)] for j in range(a)]\n",
        "\n",
        "for i in range(a):\n",
        "  for j in range(c):\n",
        "    for k in range(b):\n",
        "      result[i][j] += m1[i][k]*m2[k][j]\n",
        "\n",
        "for i in range(1):\n",
        "  for j in range(1):\n",
        "    print(result)\n",
        "\n",
        "print(\"\\n TRANSPOSE OF PRODUCT OF M1,M2:\")\n",
        "\n",
        "#TRANSPOSE OF PRODUCT OF M1,M2\n",
        "a = int(input(\"enter rows for m1:\"))\n",
        "b = int(input(\"enter coloumns for m1:\"))\n",
        "\n",
        "def transpose(m1,n):\n",
        "  for i in range(b):\n",
        "    for j in range(a):\n",
        "      n[i][j] = m1[j][i]\n",
        "\n",
        "print(\"elements of m1 are:\")\n",
        "m1 = [[int(input()) for i in range(b)] for j in range(a)]\n",
        "print(\"m1:\")\n",
        "for i in range(1):\n",
        "  for j in range(1):\n",
        "    print(m1)\n",
        "\n",
        "n = [[0 for x in range(a)] for y in range(b)]\n",
        "\n",
        "transpose(m1,n)\n",
        "\n",
        "print(\"\\nresult matrix is :\")\n",
        "for i in range(1):\n",
        "  for j in range(1):\n",
        "    print(n)\n",
        "\n",
        "\n"
      ],
      "metadata": {
        "colab": {
          "base_uri": "https://localhost:8080/"
        },
        "outputId": "6ee3e872-a41d-4dfa-c8a5-496d9fda5431",
        "id": "vgYuIpw2QETb"
      },
      "execution_count": 2,
      "outputs": [
        {
          "output_type": "stream",
          "name": "stdout",
          "text": [
            "enter rows for m1:2\n",
            "enter coloums for m1/ rows or m1:3\n",
            "enter coloumns for m2:2\n",
            "elements of m1 are:\n",
            "1\n",
            "2\n",
            "3\n",
            "4\n",
            "5\n",
            "6\n",
            "m1:\n",
            "[[1, 2, 3], [4, 5, 6]]\n",
            "\n",
            "elements of m2 are:\n",
            "7\n",
            "8\n",
            "9\n",
            "0\n",
            "1\n",
            "2\n",
            "m2:\n",
            "[[7, 8], [9, 0], [1, 2]]\n",
            "\n",
            " product of the two matrices:\n",
            "[[28, 14], [79, 44]]\n",
            "TRANSPOSE OF PRODUCT OF M1,M2:\n",
            "enter rows for m1:2\n",
            "enter coloumns for m1:2\n",
            "elements of m1 are:\n",
            "28\n",
            "14\n",
            "79\n",
            "44\n",
            "m1:\n",
            "[[28, 14], [79, 44]]\n",
            "\n",
            "result matrix is :\n",
            "[[28, 79], [14, 44]]\n"
          ]
        }
      ]
    },
    {
      "cell_type": "code",
      "source": [
        "#CONTINUATION OF VERIFICATION\n",
        "print(\"TRANSPOSE OF A :\")\n",
        "a = int(input(\"enter rows for m1:\"))\n",
        "b = int(input(\"enter coloumns for m1:\"))\n",
        "\n",
        "def transpose(m1,n):\n",
        "  for i in range(b):\n",
        "    for j in range(a):\n",
        "      n[i][j] = m1[j][i]\n",
        "\n",
        "print(\"elements of m1 are:\")\n",
        "m1 = [[int(input()) for i in range(b)] for j in range(a)]\n",
        "print(\"m1:\")\n",
        "for i in range(1):\n",
        "  for j in range(1):\n",
        "    print(m1)\n",
        "\n",
        "n = [[0 for x in range(a)] for y in range(b)]\n",
        "\n",
        "transpose(m1,n)\n",
        "\n",
        "print(\"\\nresult matrix is :\")\n",
        "for i in range(1):\n",
        "  for j in range(1):\n",
        "    print(n)\n",
        "\n",
        "print(\"TRANSPOSE OF B :\")\n",
        "a = int(input(\"enter rows for m2:\"))\n",
        "b = int(input(\"enter coloumns for m2:\"))\n",
        "\n",
        "def transpose(m2,n):\n",
        "  for i in range(b):\n",
        "    for j in range(a):\n",
        "      n[i][j] = m2[j][i]\n",
        "\n",
        "print(\"elements of m1 are:\")\n",
        "m2 = [[int(input()) for i in range(b)] for j in range(a)]\n",
        "print(\"m2:\")\n",
        "for i in range(1):\n",
        "  for j in range(1):\n",
        "    print(m2)\n",
        "\n",
        "n = [[0 for x in range(a)] for y in range(b)]\n",
        "\n",
        "transpose(m2,n)\n",
        "\n",
        "print(\"\\nresult matrix is :\")\n",
        "for i in range(1):\n",
        "  for j in range(1):\n",
        "    print(n)"
      ],
      "metadata": {
        "colab": {
          "base_uri": "https://localhost:8080/"
        },
        "outputId": "d5cea13f-acfa-4e9a-cd3c-d19840edc754",
        "id": "StAtYZeNR5As"
      },
      "execution_count": 6,
      "outputs": [
        {
          "output_type": "stream",
          "name": "stdout",
          "text": [
            "TRANSPOSE OF A :\n",
            "enter rows for m1:2\n",
            "enter coloumns for m1:3\n",
            "elements of m1 are:\n",
            "1\n",
            "2\n",
            "3\n",
            "4\n",
            "5\n",
            "6\n",
            "m1:\n",
            "[[1, 2, 3], [4, 5, 6]]\n",
            "\n",
            "result matrix is :\n",
            "[[1, 4], [2, 5], [3, 6]]\n",
            "TRANSPOSE OF B :\n",
            "enter rows for m2:3\n",
            "enter coloumns for m2:2\n",
            "elements of m1 are:\n",
            "7\n",
            "8\n",
            "9\n",
            "0\n",
            "1\n",
            "2\n",
            "m2:\n",
            "[[7, 8], [9, 0], [1, 2]]\n",
            "\n",
            "result matrix is :\n",
            "[[7, 9, 1], [8, 0, 2]]\n"
          ]
        }
      ]
    },
    {
      "cell_type": "code",
      "source": [
        "#VERIFICATION - MULTIPLICATION OF M1',M2'\n",
        "\n",
        "a = int(input(\"enter rows for m1:\"))\n",
        "#coloumns for m1 / rows for m1 \n",
        "b = int(input(\"enter coloums for m1/ rows or m1:\"))\n",
        "#coloumns for m2\n",
        "c = int(input(\"enter coloumns for m2:\"))\n",
        "#m1 = a*b\n",
        "print(\"elements of m1 are:\")\n",
        "m1 = [[int(input()) for i in range(b)] for j in range(a)]\n",
        "print(\"m1:\")\n",
        "for i in range(1):\n",
        "  for j in range(1):\n",
        "    print(m1)\n",
        "#m2 = b*c\n",
        "print(\"\\nelements of m2 are:\")\n",
        "m2 = [[int(input()) for i in range(c)] for j in range(b)]\n",
        "print(\"m2:\")\n",
        "for i in range(1):\n",
        "  for j in range(1):\n",
        "    print(m2)\n",
        "\n",
        "print(\"\\n product of the two matrices:\")\n",
        "\n",
        "result = [[0 for i in range(c)] for j in range(a)]\n",
        "\n",
        "for i in range(a):\n",
        "  for j in range(c):\n",
        "    for k in range(b):\n",
        "      result[i][j] += m1[i][k]*m2[k][j]\n",
        "\n",
        "for i in range(1):\n",
        "  for j in range(1):\n",
        "    print(result)\n",
        "\n",
        "#HENCE (M1*M2)' = M1'*M2'"
      ],
      "metadata": {
        "colab": {
          "base_uri": "https://localhost:8080/"
        },
        "outputId": "29075118-78d3-4277-8257-91715d313aff",
        "id": "P_t8h-OdT2ir"
      },
      "execution_count": 10,
      "outputs": [
        {
          "output_type": "stream",
          "name": "stdout",
          "text": [
            "enter rows for m1:2\n",
            "enter coloums for m1/ rows or m1:3\n",
            "enter coloumns for m2:2\n",
            "elements of m1 are:\n",
            "7\n",
            "9\n",
            "1\n",
            "8\n",
            "0\n",
            "2\n",
            "m1:\n",
            "[[7, 9, 1], [8, 0, 2]]\n",
            "\n",
            "elements of m2 are:\n",
            "1\n",
            "4\n",
            "2\n",
            "5\n",
            "3\n",
            "6\n",
            "m2:\n",
            "[[1, 4], [2, 5], [3, 6]]\n",
            "\n",
            " product of the two matrices:\n",
            "[[28, 79], [14, 44]]\n"
          ]
        }
      ]
    },
    {
      "cell_type": "code",
      "source": [
        "#removing duplicate elements from tuples\n",
        "tup = (1,2,3,3,4,6,1,2,7)\n",
        "print(f\"The original tuple : {tup}\")\n",
        "tup0 = tuple(set(tup))\n",
        "print(f\"tuple aftr removing duplicate : {tup0}\")"
      ],
      "metadata": {
        "colab": {
          "base_uri": "https://localhost:8080/"
        },
        "id": "0Bzy8ZqQDHKG",
        "outputId": "16e6403c-2ce4-48b0-a4f9-72cd5e26cb1c"
      },
      "execution_count": null,
      "outputs": [
        {
          "output_type": "stream",
          "name": "stdout",
          "text": [
            "The original tuple : (1, 2, 3, 3, 4, 6, 1, 2, 7)\n",
            "tuple aftr removing duplicate : (1, 2, 3, 4, 6, 7)\n"
          ]
        }
      ]
    },
    {
      "cell_type": "code",
      "source": [
        "#sum of elements of modified elements using recursion\n",
        "def sum_tuple(tup):\n",
        "#for tuple of size 0\n",
        "  if len(tup) == 0:\n",
        "    return 0\n",
        "  else:\n",
        "    return tup[0] + sum_tuple(tup[1:]) #adding first element to rest of the elements\n",
        "\n",
        "print(sum_tuple([1,2,3,4,6,7]))"
      ],
      "metadata": {
        "colab": {
          "base_uri": "https://localhost:8080/"
        },
        "id": "-uG3IZ2rzKKP",
        "outputId": "ae07287a-1c92-4e90-d96f-177767db931f"
      },
      "execution_count": null,
      "outputs": [
        {
          "output_type": "stream",
          "name": "stdout",
          "text": [
            "23\n"
          ]
        }
      ]
    },
    {
      "cell_type": "code",
      "source": [
        "def palindrome(txt):\n",
        "  return txt == txt[::-1]\n",
        "\n",
        "txt = [a,n,a]\n",
        "ans = palindrome(txt)\n",
        "\n",
        "if ans:\n",
        "  print(True)\n",
        "else:\n",
        "  print(False)\n",
        "  \n"
      ],
      "metadata": {
        "colab": {
          "base_uri": "https://localhost:8080/"
        },
        "id": "bRjqDYovlVY4",
        "outputId": "d2198cba-9cac-45b0-8111-24da2f36c28a"
      },
      "execution_count": null,
      "outputs": [
        {
          "output_type": "stream",
          "name": "stdout",
          "text": [
            "True\n"
          ]
        }
      ]
    },
    {
      "cell_type": "code",
      "source": [
        "def palindrome(txt):\n",
        "  return txt == txt[::-1]\n",
        "\n",
        "txt = [\"a\",\"b\",\"a\"]\n",
        "ans = palindrome(txt)\n",
        "ans = True\n",
        "if True:\n",
        "  for i in txt:\n",
        "    ascii=ord(i)\n",
        "    print(f\"Ascii({i}): {ascii}\")\n",
        "\n",
        "  for i in txt:\n",
        "    hex_value = hex(ord(i))\n",
        "    print(f\"hex({i}): {hex_value}\")\n",
        "print(\"output:\") \n",
        "for i in txt:\n",
        "  print(hex(ord(i)), end= \" \")\n",
        "\n",
        "else:\n",
        "  \n",
        "    "
      ],
      "metadata": {
        "colab": {
          "base_uri": "https://localhost:8080/"
        },
        "id": "N6t34uenQtx8",
        "outputId": "cc53098a-84ee-46ba-cb89-5d8d999e562b"
      },
      "execution_count": null,
      "outputs": [
        {
          "output_type": "stream",
          "name": "stdout",
          "text": [
            "Ascii(a): 97\n",
            "Ascii(b): 98\n",
            "Ascii(a): 97\n",
            "hex(a): 0x61\n",
            "hex(b): 0x62\n",
            "hex(a): 0x61\n",
            "output:\n",
            "0x61 0x62 0x61 "
          ]
        }
      ]
    },
    {
      "cell_type": "code",
      "source": [
        "def palindrome(txt):\n",
        "  return txt == txt[::-1]\n",
        "\n",
        "txt = [\"a\",\"b\",\"a\"]\n",
        "ans = palindrome(txt)\n",
        "\n",
        "if ans:\n",
        "  for i in txt:\n",
        "    ascii=ord(i)\n",
        "    print(f\"Ascii({i}): {ascii}\")\n",
        "\n",
        "  for i in txt:\n",
        "    hex_value = hex(ord(i))\n",
        "    print(f\"hex({i}): {hex_value}\")\n",
        "\n",
        "  print(\"output:\") \n",
        "  for i in txt:\n",
        "    print(hex(ord(i)), end= \" \")\n",
        "\n",
        "else:\n",
        "  rows = len(txt)    #P.S. I'm pretty sure this is the wrong code for the shape you've given but i tried my best\n",
        "  ch = txt[0]\n",
        "\n",
        "  for i in range (1,rows+1):\n",
        "    for space in range(rows-i):\n",
        "        print(' ',end='')\n",
        "\n",
        "    for j in range(1, i+1):\n",
        "        print(ch,end=\"\")\n",
        "        ch=ord(ch)+1\n",
        "        ch = chr(ch)\n",
        "    ch=ord(ch)-1\n",
        "    ch = chr(ch)\n",
        "\n",
        "    for k in range(1, i):\n",
        "        ch=ord(ch)-1\n",
        "        ch = chr(ch)\n",
        "        print(ch,end=\"\")\n",
        "    \n",
        "        \n",
        "    print()\n",
        "    ch=txt[0]"
      ],
      "metadata": {
        "colab": {
          "base_uri": "https://localhost:8080/"
        },
        "outputId": "3b6f6759-4588-45e3-8f48-7e8b45553bb8",
        "id": "ibkfkLVeil4e"
      },
      "execution_count": null,
      "outputs": [
        {
          "output_type": "stream",
          "name": "stdout",
          "text": [
            "Ascii(a): 97\n",
            "Ascii(b): 98\n",
            "Ascii(a): 97\n",
            "hex(a): 0x61\n",
            "hex(b): 0x62\n",
            "hex(a): 0x61\n",
            "output:\n",
            "0x61 0x62 0x61 "
          ]
        }
      ]
    },
    {
      "cell_type": "code",
      "source": [
        "a = int(input(\"enter rows for m1:\"))\n",
        "#coloumns for m1 / rows for m1 \n",
        "b = int(input(\"enter coloums for m1/ rows or m1:\"))\n",
        "#coloumns for m2\n",
        "c = int(input(\"enter coloumns for m2:\"))\n",
        "#m1 = a*b\n",
        "print(\"elements of m1 are:\")\n",
        "m1 = [[int(input()) for i in range(b)] for j in range(a)]\n",
        "print(\"m1:\")\n",
        "for i in range(1):\n",
        "  for j in range(1):\n",
        "    print(m1)\n",
        "#m2 = b*c\n",
        "print(\"\\nelements of m2 are:\")\n",
        "m2 = [[int(input()) for i in range(c)] for j in range(b)]\n",
        "print(\"m2:\")\n",
        "for i in range(1):\n",
        "  for j in range(1):\n",
        "    print(m2)\n",
        "\n",
        "print(\"\\n product of the two matrices:\")\n",
        "\n",
        "result = [[0 for i in range(c)] for j in range(a)]\n",
        "\n",
        "for i in range(a):\n",
        "  for j in range(c):\n",
        "    for k in range(b):\n",
        "      result[i][j] += m1[i][k]*m2[k][j]\n",
        "\n",
        "for i in range(1):\n",
        "  for j in range(1):\n",
        "    print(result)\n"
      ],
      "metadata": {
        "colab": {
          "base_uri": "https://localhost:8080/"
        },
        "outputId": "89ede5cf-2ec5-48ca-9eb4-c847ed1965df",
        "id": "zUtTfZyBPlSd"
      },
      "execution_count": null,
      "outputs": [
        {
          "output_type": "stream",
          "name": "stdout",
          "text": [
            "enter rows for m1:2\n",
            "enter coloums for m1/ rows or m1:3\n",
            "enter coloumns for m2:2\n",
            "elements of m1 are:\n",
            "1\n",
            "2\n",
            "3\n",
            "4\n",
            "5\n",
            "6\n",
            "m1:\n",
            "[[1, 2, 3], [4, 5, 6]]\n",
            "\n",
            "elements of m2 are:\n",
            "1\n",
            "2\n",
            "3\n",
            "4\n",
            "5\n",
            "6\n",
            "m2:\n",
            "[[1, 2], [3, 4], [5, 6]]\n",
            "\n",
            " product of the two matrices:\n",
            "[[22, 28], [49, 64]]\n"
          ]
        }
      ]
    }
  ]
}